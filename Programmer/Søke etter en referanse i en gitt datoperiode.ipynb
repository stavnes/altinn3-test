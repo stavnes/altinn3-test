{
 "cells": [
  {
   "cell_type": "markdown",
   "id": "d9444456-1158-4610-9fd0-f816a9d6f08c",
   "metadata": {
    "tags": []
   },
   "source": [
    "## Søke etter en referanse på en gitt dato og liste opp innholdet i xml-fila"
   ]
  },
  {
   "cell_type": "code",
   "execution_count": null,
   "id": "1b378518-c9a0-40de-bba8-79f6db3192e3",
   "metadata": {
    "tags": []
   },
   "outputs": [],
   "source": [
    "from google.cloud import storage\n",
    "from dapla import AuthClient\n",
    "\n",
    "def loop_folder(bucket, folder, reference):\n",
    "\n",
    "    blobs = bucket.list_blobs(prefix=folder)\n",
    "    # Loops thru the files in the folder\n",
    "    for blob in blobs:\n",
    "\n",
    "        # Jumps over the folder itself\n",
    "        if blob.name == folder:\n",
    "            continue\n",
    "\n",
    "        if reference in blob.name:\n",
    "            print (\"Filnavn:\", blob.name)\n",
    "\n",
    "\n",
    "def search_reference_dateperiod(project, bucket_name, date_from, date_to, reference):\n",
    "\n",
    "    try:\n",
    "        storage_client = storage.client.Client(credentials=AuthClient.fetch_google_credentials(), project=project,)\n",
    "        bucket = storage_client.get_bucket(bucket_name)\n",
    "\n",
    "        date_from_list      = date_from.split('/') \n",
    "        year_from           = date_from_list[0]\n",
    "        month_from          = date_from_list[1]\n",
    "        day_from            = date_from_list[2]\n",
    "        date_to_list        = date_to.split('/') \n",
    "        year_to             = date_to_list[0]\n",
    "        month_to            = date_to_list[1]\n",
    "        day_to              = date_to_list[2]\n",
    "\n",
    "        for y in range(int(year_from), int(year_to) + 1):\n",
    "\n",
    "            if y == int(year_from):\n",
    "                m_from = int(month_from)\n",
    "            else:\n",
    "                m_from = 1\n",
    "\n",
    "            if y == int(year_to):\n",
    "                m_to = int(month_to)\n",
    "            else:\n",
    "                m_to = 12\n",
    "\n",
    "\n",
    "            for m in range(int(m_from), int(m_to) + 1):\n",
    "\n",
    "                if y == int(year_from) and m == int(month_from):\n",
    "                    d_from = int(day_from)\n",
    "                else:\n",
    "                    d_from = 1\n",
    "\n",
    "                if y == int(year_to) and m == int(month_to):\n",
    "                    d_to = int(day_to)\n",
    "                else:\n",
    "                    d_to = 31\n",
    "\n",
    "                for d in range(d_from, d_to + 1):\n",
    "                    folder = str(y) + '/' + str(m) + '/' + str(d) + '/'\n",
    "                    loop_folder(bucket, folder, reference)\n",
    "\n",
    "    except Exception as e:\n",
    "        print(f'Unexpected exception: {e}')\n",
    "        raise e"
   ]
  },
  {
   "cell_type": "code",
   "execution_count": null,
   "id": "0cdac05a-f5db-4efc-9d9c-6666c7505c07",
   "metadata": {},
   "outputs": [],
   "source": [
    "PROJECT               = \"altinn-data-staging-c629\"\n",
    "BUCKET                = \"ra0678-01-altinn-data-staging-c629-ssb-altinn\"\n",
    "DATE_FROM             = \"2023/3/1\"\n",
    "DATE_TO               = \"2023/3/10\"\n",
    "REFERENCE             = \"5fb36dae75f9\"\n",
    "\n",
    "search_reference_dateperiod(PROJECT, BUCKET, DATE_FROM, DATE_TO, REFERENCE)"
   ]
  }
 ],
 "metadata": {
  "language_info": {
   "codemirror_mode": {
    "name": "ipython"
   },
   "file_extension": ".py",
   "mimetype": "text/x-python",
   "name": "python",
   "nbconvert_exporter": "python"
  }
 },
 "nbformat": 4,
 "nbformat_minor": 5
}
