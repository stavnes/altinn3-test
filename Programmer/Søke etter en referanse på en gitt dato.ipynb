{
 "cells": [
  {
   "cell_type": "markdown",
   "id": "51507057-9a74-4ee7-bcd8-36d82c4b8eb6",
   "metadata": {},
   "source": [
    "## Søke etter en referanse på en gitt dato og liste opp innholdet i xml-fila"
   ]
  },
  {
   "cell_type": "code",
   "execution_count": null,
   "id": "62106282-e092-469d-ae9f-df9324e12a68",
   "metadata": {
    "tags": []
   },
   "outputs": [],
   "source": [
    "from google.cloud import storage\n",
    "from dapla import AuthClient\n",
    "import xml.etree.ElementTree as ET\n",
    "import xmltodict\n",
    "\n",
    "def parse_node(node, ancestor_string=\"\"):\n",
    "    #print(type(node), dir(node))\n",
    "\n",
    "    if ancestor_string:\n",
    "        node_string = \".\".join([ancestor_string, node.tag])\n",
    "    else:\n",
    "        node_string = node.tag\n",
    "    tag_list = [node_string]\n",
    "    text = node.text\n",
    "    if text:\n",
    "        text_list = [text.strip()]\n",
    "    else:\n",
    "        text_list = [\"\"]\n",
    "    attr_list = [node.attrib]\n",
    "    for child_node in list(node):\n",
    "        child_tag_list, child_text_list, child_attr_list = parse_node(child_node, ancestor_string=node_string)\n",
    "        tag_list.extend(child_tag_list)\n",
    "        text_list.extend(child_text_list)\n",
    "        attr_list.extend(child_attr_list)\n",
    "    return tag_list, text_list, attr_list\n",
    "\n",
    "\n",
    "def parse_xml(project, bucket_name, filename):\n",
    "    storage_client = storage.client.Client(credentials=AuthClient.fetch_google_credentials(), project=project,)\n",
    "    bucket = storage_client.get_bucket(bucket_name)\n",
    "    blob = bucket.get_blob(filename)\n",
    "    #print (\"Filnavn: \", blob.name)\n",
    "\n",
    "    read_output = blob.download_as_string()\n",
    "    tree  = ET.ElementTree(ET.fromstring(read_output))\n",
    "\n",
    "    root_node = tree.getroot()\n",
    "    tags, texts, attrs = parse_node(root_node)\n",
    "\n",
    "    y = 0\n",
    "    for x in tags:\n",
    "        print(tags[y], ': ', texts[y])\n",
    "        y = y + 1\n",
    "\n",
    "        \n",
    "def find_reference_date(project, bucket_name, folder, reference):\n",
    "\n",
    "    try:\n",
    "        storage_client = storage.client.Client(credentials=AuthClient.fetch_google_credentials(), project=project,)\n",
    "        bucket = storage_client.get_bucket(bucket_name)\n",
    "        blobs = bucket.list_blobs(prefix=folder)\n",
    "\n",
    "        # Loops thru the files in the folder\n",
    "        for blob in blobs:\n",
    "\n",
    "            # Jumps over the folder itself\n",
    "            if blob.name == folder:\n",
    "                continue\n",
    "\n",
    "            if reference in blob.name and '.xml' in blob.name:\n",
    "                print (\"Filnavn:\", blob.name)\n",
    "                FILENAME = blob.name\n",
    "                parse_xml(PROJECT, BUCKET, FILENAME)\n",
    "                print ('')\n",
    "\n",
    "    except Exception as e:\n",
    "        print(f'Unexpected exception: {e}')\n",
    "        raise e"
   ]
  },
  {
   "cell_type": "code",
   "execution_count": null,
   "id": "8115e916-7d91-4cf1-a18e-eaf19381e084",
   "metadata": {},
   "outputs": [],
   "source": [
    "PROJECT               = \"altinn-data-staging-c629\"\n",
    "BUCKET                = \"ra0678-01-altinn-data-staging-c629-ssb-altinn\"\n",
    "DATE                  = \"2023/3/2\"\n",
    "REFERENCE             = \"5fb36dae75f9\"\n",
    "\n",
    "find_reference_date(PROJECT, BUCKET, DATE, REFERENCE)"
   ]
  }
 ],
 "metadata": {
  "language_info": {
   "codemirror_mode": {
    "name": "ipython"
   },
   "file_extension": ".py",
   "mimetype": "text/x-python",
   "name": "python",
   "nbconvert_exporter": "python"
  }
 },
 "nbformat": 4,
 "nbformat_minor": 5
}
