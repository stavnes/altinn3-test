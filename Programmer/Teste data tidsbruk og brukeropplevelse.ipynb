{
 "cells": [
  {
   "cell_type": "code",
   "execution_count": null,
   "id": "72ba9696-76e2-41a0-8e35-3ce79aee7ab2",
   "metadata": {
    "tags": []
   },
   "outputs": [],
   "source": [
    "#Importerer biblioteker\n",
    "from google.cloud import storage\n",
    "from google.cloud import bigquery\n",
    "from dapla import AuthClient\n",
    "import xml.etree.ElementTree as et\n",
    "import pandas as pd\n",
    "import db_dtypes\n",
    "import os"
   ]
  },
  {
   "cell_type": "code",
   "execution_count": null,
   "id": "7a8abe7d-4daa-4e60-8825-4aad81b9c000",
   "metadata": {
    "tags": []
   },
   "outputs": [],
   "source": [
    "# Setter opp en client mot valgt prosjekt\n",
    "project = \"altinn-staging-2151\"\n",
    "storage_client = bigquery.Client(credentials=AuthClient.fetch_google_credentials(), project=project)"
   ]
  },
  {
   "cell_type": "code",
   "execution_count": null,
   "id": "08e39149-e5c3-4533-aa9c-cf1c923cb559",
   "metadata": {
    "tags": []
   },
   "outputs": [],
   "source": [
    "# Setter opp spørring\n",
    "query = \"\"\"\n",
    "    SELECT *\n",
    "    FROM `altinn-staging-2151.form_monitoring_ds.altinn3_Tidsbruk_Brukeropplevelse_v`\n",
    "    where undersoekelsesnr not like \"1006\"\n",
    "    -- AND hendelseTidspunkt >= CAST('2023-01-24 06:00:00' AS TIMESTAMP)\n",
    "    -- AND hendelseTidspunkt <= CAST('2023-01-24 16:00:00' AS TIMESTAMP)\n",
    "    -- LIMIT 10\n",
    "\"\"\""
   ]
  },
  {
   "cell_type": "code",
   "execution_count": null,
   "id": "96fa9fbb-e6be-4d31-a8d6-c7f9a2b31458",
   "metadata": {
    "tags": []
   },
   "outputs": [],
   "source": [
    "%%time\n",
    "# Utfører spørring\n",
    "query_job = storage_client.query(query)  # Make an API request."
   ]
  },
  {
   "cell_type": "code",
   "execution_count": null,
   "id": "68699f97-b39b-4131-abf7-b0a852da0899",
   "metadata": {
    "tags": []
   },
   "outputs": [],
   "source": [
    "df = query_job.to_arrow().to_pandas()\n",
    "df"
   ]
  },
  {
   "cell_type": "code",
   "execution_count": null,
   "id": "f188281a-381c-4ebb-8e11-d4ae78c57dc6",
   "metadata": {},
   "outputs": [],
   "source": []
  }
 ],
 "metadata": {
  "language_info": {
   "codemirror_mode": {
    "name": "ipython"
   },
   "file_extension": ".py",
   "mimetype": "text/x-python",
   "name": "python",
   "nbconvert_exporter": "python"
  }
 },
 "nbformat": 4,
 "nbformat_minor": 5
}
