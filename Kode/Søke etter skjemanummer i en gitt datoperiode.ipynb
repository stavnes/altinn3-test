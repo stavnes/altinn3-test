{
 "cells": [
  {
   "cell_type": "markdown",
   "id": "fb6b40c1-b789-4189-9bb4-fef7af63e45b",
   "metadata": {
    "tags": []
   },
   "source": [
    "## Søke etter skjemanummer i en gitt datoperiode"
   ]
  },
  {
   "cell_type": "code",
   "execution_count": null,
   "id": "10e0fe06-65d6-47eb-9a79-79a7355bdbde",
   "metadata": {
    "tags": []
   },
   "outputs": [],
   "source": [
    "from google.cloud import storage\n",
    "from dapla import AuthClient\n",
    "import xmltodict\n",
    "\n",
    "def loop_folder(bucket, folder, skjema):\n",
    "\n",
    "    blobs = bucket.list_blobs(prefix=folder)\n",
    "    # Loop thru the files in the folder\n",
    "    for blob in blobs:\n",
    "\n",
    "        # Jump over the folder itself\n",
    "        if blob.name == folder:\n",
    "            continue\n",
    "\n",
    "        # If form file then put info in dataframe \n",
    "        blobName_list = blob.name.split('/')\n",
    "        filename = blobName_list[len(blobName_list) - 1]\n",
    "        incomingDate = blobName_list[0] + '/' + blobName_list[1] + '/' + blobName_list[2]\n",
    "\n",
    "        if filename[0:5] == 'form_':\n",
    "            \n",
    "            # Parse the blob as a dictionary\n",
    "            read_output = blob.download_as_string()\n",
    "            blob_dict   = xmltodict.parse(read_output)\n",
    "            \n",
    "            # Fetch information\n",
    "            raNummer    = blob_dict['A3_RA0689_M']['InternInfo']['raNummer']\n",
    "            try:\n",
    "                enhetsOrgNr = blob_dict['A3_RA0689_M']['InternInfo']['enhetsOrgNr']\n",
    "            except Exception as e:\n",
    "                enhetsOrgNr = '*'\n",
    "\n",
    "            instance_list = blobName_list[len(blobName_list) - 2].split('_')\n",
    "            reference     = instance_list[1]\n",
    "\n",
    "            if raNummer == skjema:\n",
    "                print('raNummer', raNummer, 'enhetsOrgNr', enhetsOrgNr, 'referanse', reference, 'ankomstdato', incomingDate)\n",
    "            elif raNummer == skjema and orgnr == '':\n",
    "                print('raNummer', raNummer, 'enhetsOrgNr', enhetsOrgNr, 'referanse', reference, 'ankomstdato', incomingDate)\n",
    "            elif raNummer == '' and orgnr == enhetsOrgNr:\n",
    "                print('raNummer', raNummer, 'enhetsOrgNr', enhetsOrgNr, 'referanse', reference, 'ankomstdato', incomingDate)\n",
    "\n",
    "                \n",
    "def search_raNummer_dateperiod(project, bucket_name, date_from, date_to, skjema):\n",
    "\n",
    "    try:\n",
    "        storage_client = storage.client.Client(credentials=AuthClient.fetch_google_credentials(), project=project,)\n",
    "        bucket = storage_client.get_bucket(bucket_name)\n",
    "\n",
    "        date_from_list      = date_from.split('/') \n",
    "        year_from           = date_from_list[0]\n",
    "        month_from          = date_from_list[1]\n",
    "        day_from            = date_from_list[2]\n",
    "        date_to_list        = date_to.split('/') \n",
    "        year_to             = date_to_list[0]\n",
    "        month_to            = date_to_list[1]\n",
    "        day_to              = date_to_list[2]\n",
    "\n",
    "        for y in range(int(year_from), int(year_to) + 1):\n",
    "\n",
    "            if y == int(year_from):\n",
    "                m_from = int(month_from)\n",
    "            else:\n",
    "                m_from = 1\n",
    "\n",
    "            if y == int(year_to):\n",
    "                m_to = int(month_to)\n",
    "            else:\n",
    "                m_to = 12\n",
    "\n",
    "\n",
    "            for m in range(int(m_from), int(m_to) + 1):\n",
    "\n",
    "                if y == int(year_from) and m == int(month_from):\n",
    "                    d_from = int(day_from)\n",
    "                else:\n",
    "                    d_from = 1\n",
    "\n",
    "                if y == int(year_to) and m == int(month_to):\n",
    "                    d_to = int(day_to)\n",
    "                else:\n",
    "                    d_to = 31\n",
    "\n",
    "                for d in range(d_from, d_to + 1):\n",
    "                    folder = str(y) + '/' + str(m) + '/' + str(d) + '/'\n",
    "                    loop_folder(bucket, folder, skjema)\n",
    "\n",
    "    except Exception as e:\n",
    "        print(f'Unexpected exception: {e}')\n",
    "        raise e"
   ]
  },
  {
   "cell_type": "code",
   "execution_count": null,
   "id": "08ba6ba5-19c3-4cf5-ba26-8229a54184a3",
   "metadata": {
    "tags": []
   },
   "outputs": [],
   "source": [
    "PROJECT               = \"altinn-data-staging-c629\"\n",
    "BUCKET                = \"ra0689-01-altinn-data-staging-c629-ssb-altinn\"\n",
    "DATE_FROM             = \"2023/6/6\"\n",
    "DATE_TO               = \"2023/7/25\"\n",
    "SKJEMA                = \"RA-0689\"\n",
    "\n",
    "search_raNummer_dateperiod(PROJECT, BUCKET, DATE_FROM, DATE_TO, SKJEMA)"
   ]
  }
 ],
 "metadata": {
  "language_info": {
   "codemirror_mode": {
    "name": "ipython"
   },
   "file_extension": ".py",
   "mimetype": "text/x-python",
   "name": "python",
   "nbconvert_exporter": "python"
  }
 },
 "nbformat": 4,
 "nbformat_minor": 5
}
