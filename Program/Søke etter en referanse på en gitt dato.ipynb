{
 "cells": [
  {
   "cell_type": "markdown",
   "id": "51507057-9a74-4ee7-bcd8-36d82c4b8eb6",
   "metadata": {},
   "source": [
    "## Søke etter en referanse på en gitt dato"
   ]
  },
  {
   "cell_type": "code",
   "execution_count": null,
   "id": "62106282-e092-469d-ae9f-df9324e12a68",
   "metadata": {
    "tags": []
   },
   "outputs": [],
   "source": [
    "from google.cloud import storage\n",
    "from dapla import AuthClient\n",
    "\n",
    "def search_reference_date(project, bucket_name, folder, reference):\n",
    "\n",
    "    try:\n",
    "        storage_client = storage.client.Client(credentials=AuthClient.fetch_google_credentials(), project=project,)\n",
    "        bucket = storage_client.get_bucket(bucket_name)\n",
    "        blobs = bucket.list_blobs(prefix=folder)\n",
    "\n",
    "        # Loops thru the files in the folder\n",
    "        for blob in blobs:\n",
    "\n",
    "            # Jumps over the folder itself\n",
    "            if blob.name == folder:\n",
    "                continue\n",
    "\n",
    "            if reference in blob.name:\n",
    "                print (\"Filnavn:\", blob.name)\n",
    "\n",
    "    except Exception as e:\n",
    "        print(f'Unexpected exception: {e}')\n",
    "        raise e"
   ]
  },
  {
   "cell_type": "code",
   "execution_count": null,
   "id": "8115e916-7d91-4cf1-a18e-eaf19381e084",
   "metadata": {},
   "outputs": [],
   "source": [
    "PROJECT               = \"altinn-data-staging-c629\"\n",
    "BUCKET                = \"ra0689-01-altinn-data-staging-c629-ssb-altinn\"\n",
    "DATE                  = \"2023/7/24\"\n",
    "REFERENCE             = \"02bba95919bd\"\n",
    "\n",
    "search_reference_date(PROJECT, BUCKET, DATE, REFERENCE)"
   ]
  }
 ],
 "metadata": {
  "language_info": {
   "codemirror_mode": {
    "name": "ipython"
   },
   "file_extension": ".py",
   "mimetype": "text/x-python",
   "name": "python",
   "nbconvert_exporter": "python"
  }
 },
 "nbformat": 4,
 "nbformat_minor": 5
}
